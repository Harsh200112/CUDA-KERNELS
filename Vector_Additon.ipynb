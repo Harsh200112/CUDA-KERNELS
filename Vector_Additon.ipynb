{
 "cells": [
  {
   "cell_type": "code",
   "execution_count": 1,
   "metadata": {},
   "outputs": [],
   "source": [
    "import numpy as np\n",
    "from numba import cuda"
   ]
  },
  {
   "cell_type": "code",
   "execution_count": 2,
   "metadata": {},
   "outputs": [],
   "source": [
    "@cuda.jit\n",
    "def vec_add_kernel(arr1, arr2, output):\n",
    "    i = cuda.threadIdx.x + cuda.blockIdx.x * cuda.blockDim.x\n",
    "    if i < arr1.size:\n",
    "        output[i] = arr1[i] + arr2[i]"
   ]
  },
  {
   "cell_type": "code",
   "execution_count": 12,
   "metadata": {},
   "outputs": [],
   "source": [
    "def vec_add(arr1, arr2, output):\n",
    "    arr1_d = cuda.to_device(arr1)\n",
    "    arr2_d = cuda.to_device(arr2)\n",
    "    output_d = cuda.to_device(output)\n",
    "\n",
    "    threadsperblock = 16\n",
    "    blockspergrid = int((arr1.size + threadsperblock -1) / threadsperblock)\n",
    "    # print(blockspergrid)\n",
    "\n",
    "    vec_add_kernel[blockspergrid, threadsperblock](arr1_d, arr2_d, output_d)\n",
    "\n",
    "    output_d.copy_to_host(output)"
   ]
  },
  {
   "cell_type": "code",
   "execution_count": 13,
   "metadata": {},
   "outputs": [],
   "source": [
    "arr1 = np.arange(10000)\n",
    "arr2 = np.arange(10000)\n",
    "output = np.zeros(10000)"
   ]
  },
  {
   "cell_type": "code",
   "execution_count": 14,
   "metadata": {},
   "outputs": [
    {
     "name": "stdout",
     "output_type": "stream",
     "text": [
      "[0.0000e+00 2.0000e+00 4.0000e+00 ... 1.9994e+04 1.9996e+04 1.9998e+04]\n"
     ]
    }
   ],
   "source": [
    "vec_add(arr1, arr2, output)\n",
    "print(output)"
   ]
  },
  {
   "cell_type": "code",
   "execution_count": null,
   "metadata": {},
   "outputs": [],
   "source": []
  }
 ],
 "metadata": {
  "kernelspec": {
   "display_name": "cuda_kernels",
   "language": "python",
   "name": "python3"
  },
  "language_info": {
   "codemirror_mode": {
    "name": "ipython",
    "version": 3
   },
   "file_extension": ".py",
   "mimetype": "text/x-python",
   "name": "python",
   "nbconvert_exporter": "python",
   "pygments_lexer": "ipython3",
   "version": "3.11.9"
  }
 },
 "nbformat": 4,
 "nbformat_minor": 2
}
